{
 "cells": [
  {
   "cell_type": "code",
   "execution_count": 1,
   "id": "e663070a",
   "metadata": {},
   "outputs": [
    {
     "name": "stdout",
     "output_type": "stream",
     "text": [
      "Stack: [1, 2, 3]\n",
      "Pop: 3\n",
      "Peek: 2\n"
     ]
    }
   ],
   "source": [
    "#1.\n",
    "class Stack:\n",
    "    def __init__(self):\n",
    "        self.items = []\n",
    "\n",
    "    def is_empty(self):\n",
    "        return len(self.items) == 0\n",
    "\n",
    "    def push(self, item):\n",
    "        self.items.append(item)\n",
    "\n",
    "    def pop(self):\n",
    "        if not self.is_empty():\n",
    "            return self.items.pop()\n",
    "        else:\n",
    "            print(\"Stack is empty\")\n",
    "\n",
    "    def peek(self):\n",
    "        if not self.is_empty():\n",
    "            return self.items[-1]\n",
    "        else:\n",
    "            print(\"Stack is empty\")\n",
    "\n",
    "stack = Stack()\n",
    "stack.push(1)\n",
    "stack.push(2)\n",
    "stack.push(3)\n",
    "print(\"Stack:\", stack.items)\n",
    "print(\"Pop:\", stack.pop())\n",
    "print(\"Peek:\", stack.peek())"
   ]
  },
  {
   "cell_type": "code",
   "execution_count": 8,
   "id": "45b268fc",
   "metadata": {},
   "outputs": [
    {
     "name": "stdout",
     "output_type": "stream",
     "text": [
      "Queue (Linked List): 1\n",
      "Dequeue: 1\n",
      "Front: 2\n"
     ]
    }
   ],
   "source": [
    "#2.\n",
    "class Node:\n",
    "    def __init__(self, data):\n",
    "        self.data = data\n",
    "        self.next = None\n",
    "\n",
    "class QueueUsingLinkedList:\n",
    "    def __init__(self):\n",
    "        self.front_node = None\n",
    "        self.rear_node = None\n",
    "\n",
    "    def is_empty(self):\n",
    "        return self.front_node is None\n",
    "\n",
    "    def enqueue(self, item):\n",
    "        new_node = Node(item)\n",
    "        if self.is_empty():\n",
    "            self.front_node = self.rear_node = new_node\n",
    "        else:\n",
    "            self.rear_node.next = new_node\n",
    "            self.rear_node = new_node\n",
    "\n",
    "    def dequeue(self):\n",
    "        if not self.is_empty():\n",
    "            removed_item = self.front_node.data\n",
    "            self.front_node = self.front_node.next\n",
    "            if self.front_node is None:\n",
    "                self.rear_node = None\n",
    "            return removed_item\n",
    "        else:\n",
    "            print(\"Queue is empty\")\n",
    "\n",
    "    def front(self):\n",
    "        if not self.is_empty():\n",
    "            return self.front_node.data\n",
    "        else:\n",
    "            print(\"Queue is empty\")\n",
    "\n",
    "queue_linked_list = QueueUsingLinkedList()\n",
    "queue_linked_list.enqueue(1)\n",
    "queue_linked_list.enqueue(2)\n",
    "queue_linked_list.enqueue(3)\n",
    "print(\"Queue (Linked List):\", queue_linked_list.front())\n",
    "print(\"Dequeue:\", queue_linked_list.dequeue())\n",
    "print(\"Front:\", queue_linked_list.front())\n"
   ]
  },
  {
   "cell_type": "code",
   "execution_count": 2,
   "id": "e4d08c65",
   "metadata": {},
   "outputs": [
    {
     "name": "stdout",
     "output_type": "stream",
     "text": [
      "Queue: [1, 2, 3]\n",
      "Dequeue: 1\n",
      "Front: 2\n"
     ]
    }
   ],
   "source": [
    "#3.\n",
    "class Queue:\n",
    "    def __init__(self):\n",
    "        self.items = []\n",
    "\n",
    "    def is_empty(self):\n",
    "        return len(self.items) == 0\n",
    "\n",
    "    def enqueue(self, item):\n",
    "        self.items.append(item)\n",
    "\n",
    "    def dequeue(self):\n",
    "        if not self.is_empty():\n",
    "            return self.items.pop(0)\n",
    "        else:\n",
    "            print(\"Queue is empty\")\n",
    "\n",
    "    def front(self):\n",
    "        if not self.is_empty():\n",
    "            return self.items[0]\n",
    "        else:\n",
    "            print(\"Queue is empty\")\n",
    "\n",
    "queue = Queue()\n",
    "queue.enqueue(1)\n",
    "queue.enqueue(2)\n",
    "queue.enqueue(3)\n",
    "print(\"Queue:\", queue.items)\n",
    "print(\"Dequeue:\", queue.dequeue())\n",
    "print(\"Front:\", queue.front())"
   ]
  },
  {
   "cell_type": "code",
   "execution_count": 3,
   "id": "f20a63d5",
   "metadata": {},
   "outputs": [
    {
     "name": "stdout",
     "output_type": "stream",
     "text": [
      "Queue (Linked List): <__main__.Node object at 0x000001F549F596D0>\n",
      "Dequeue: 1\n",
      "Front: <__main__.Node object at 0x000001F549F59760>\n"
     ]
    }
   ],
   "source": [
    "#4.\n",
    "class Node:\n",
    "    def __init__(self, data):\n",
    "        self.data = data\n",
    "        self.next = None\n",
    "\n",
    "class QueueUsingLinkedList:\n",
    "    def __init__(self):\n",
    "        self.front = None\n",
    "        self.rear = None\n",
    "\n",
    "    def is_empty(self):\n",
    "        return self.front is None\n",
    "\n",
    "    def enqueue(self, item):\n",
    "        new_node = Node(item)\n",
    "        if self.is_empty():\n",
    "            self.front = self.rear = new_node\n",
    "        else:\n",
    "            self.rear.next = new_node\n",
    "            self.rear = new_node\n",
    "\n",
    "    def dequeue(self):\n",
    "        if not self.is_empty():\n",
    "            removed_item = self.front.data\n",
    "            self.front = self.front.next\n",
    "            if self.front is None:\n",
    "                self.rear = None\n",
    "            return removed_item\n",
    "        else:\n",
    "            print(\"Queue is empty\")\n",
    "\n",
    "    def front(self):\n",
    "        if not self.is_empty():\n",
    "            return self.front.data\n",
    "        else:\n",
    "            print(\"Queue is empty\")\n",
    "\n",
    "queue_linked_list = QueueUsingLinkedList()\n",
    "queue_linked_list.enqueue(1)\n",
    "queue_linked_list.enqueue(2)\n",
    "queue_linked_list.enqueue(3)\n",
    "print(\"Queue (Linked List):\", queue_linked_list.front)\n",
    "print(\"Dequeue:\", queue_linked_list.dequeue())\n",
    "print(\"Front:\", queue_linked_list.front)"
   ]
  },
  {
   "cell_type": "code",
   "execution_count": 5,
   "id": "266e6a57",
   "metadata": {},
   "outputs": [
    {
     "name": "stdout",
     "output_type": "stream",
     "text": [
      "Priority Queue: ['work2', 'work1', 'work3']\n",
      "Dequeue: work2\n"
     ]
    }
   ],
   "source": [
    "#5.\n",
    "import heapq\n",
    "\n",
    "class PriorityQueue:\n",
    "    def __init__(self):\n",
    "        self.heap = []\n",
    "\n",
    "    def is_empty(self):\n",
    "        return len(self.heap) == 0\n",
    "\n",
    "    def enqueue(self, item, priority):\n",
    "        heapq.heappush(self.heap, (priority, item))\n",
    "\n",
    "    def dequeue(self):\n",
    "        if not self.is_empty():\n",
    "            return heapq.heappop(self.heap)[1]\n",
    "        else:\n",
    "            print(\"Priority Queue is empty\")\n",
    "\n",
    "priority_queue = PriorityQueue()\n",
    "priority_queue.enqueue(\"work1\", 3)\n",
    "priority_queue.enqueue(\"work2\", 1)\n",
    "priority_queue.enqueue(\"work3\", 2)\n",
    "print(\"Priority Queue:\", [item[1] for item in priority_queue.heap])\n",
    "print(\"Dequeue:\", priority_queue.dequeue())"
   ]
  },
  {
   "cell_type": "code",
   "execution_count": 6,
   "id": "92965dba",
   "metadata": {},
   "outputs": [
    {
     "name": "stdout",
     "output_type": "stream",
     "text": [
      "Circular Queue: [1, 2, 3]\n",
      "Dequeue: 1\n"
     ]
    }
   ],
   "source": [
    "#6.\n",
    "class CircularQueue:\n",
    "    def __init__(self, capacity):\n",
    "        self.capacity = capacity\n",
    "        self.queue = [None] * capacity\n",
    "        self.front = self.rear = -1\n",
    "\n",
    "    def is_empty(self):\n",
    "        return self.front == -1\n",
    "\n",
    "    def is_full(self):\n",
    "        return (self.rear + 1) % self.capacity == self.front\n",
    "\n",
    "    def enqueue(self, item):\n",
    "        if not self.is_full():\n",
    "            if self.is_empty():\n",
    "                self.front = self.rear = 0\n",
    "            else:\n",
    "                self.rear = (self.rear + 1) % self.capacity\n",
    "            self.queue[self.rear] = item\n",
    "        else:\n",
    "            print(\"Circular Queue is full\")\n",
    "\n",
    "    def dequeue(self):\n",
    "        if not self.is_empty():\n",
    "            removed_item = self.queue[self.front]\n",
    "            if self.front == self.rear:\n",
    "                self.front = self.rear = -1\n",
    "            else:\n",
    "                self.front = (self.front + 1) % self.capacity\n",
    "            return removed_item\n",
    "        else:\n",
    "            print(\"Circular Queue is empty\")\n",
    "\n",
    "circular_queue = CircularQueue(3)\n",
    "circular_queue.enqueue(1)\n",
    "circular_queue.enqueue(2)\n",
    "circular_queue.enqueue(3)\n",
    "print(\"Circular Queue:\", circular_queue.queue)\n",
    "print(\"Dequeue:\", circular_queue.dequeue())"
   ]
  }
 ],
 "metadata": {
  "kernelspec": {
   "display_name": "Python 3",
   "language": "python",
   "name": "python3"
  },
  "language_info": {
   "codemirror_mode": {
    "name": "ipython",
    "version": 3
   },
   "file_extension": ".py",
   "mimetype": "text/x-python",
   "name": "python",
   "nbconvert_exporter": "python",
   "pygments_lexer": "ipython3",
   "version": "3.8.8"
  }
 },
 "nbformat": 4,
 "nbformat_minor": 5
}
